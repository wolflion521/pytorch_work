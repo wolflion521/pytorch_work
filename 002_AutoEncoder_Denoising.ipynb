{
 "cells": [
  {
   "cell_type": "markdown",
   "metadata": {},
   "source": [
    "## AutoEncoder\n",
    "### structure\n",
    "    3 layer conv and downsample          \n",
    "    3 layer transpose conv upsample\n",
    "    loss: Mean Square Error\n",
    "    optimizer: Adam\n",
    "### functions\n",
    "    import torch.nn as nn\n",
    "    3 layer conv and downsample\n",
    "        conv:  nn.Conv2d(inputlayerchannels,outputlayerchannels,kernelsize,padding)\n",
    "        downsample:nn.MaxPool2d(2,2)\n",
    "    3 layer transpose conv upsample: nn.ConvTranspose2d(inputlayerchannels,outputlayerchannels,kernelsize,stride=2)\n",
    "    activation function:import torch.nn.functional as F   F.relu   F.sigmoid\n",
    "    loss: Mean Square Error   nn.MSELoss(predicts,targets)\n",
    "    optimizer: Adam        torch.optim.Adam(model.parameters(),lr=0.001)\n",
    "    Dataloader:torch.utils.data.DataLoader\n",
    "    reshape:  certainTensor.view(batch_size,channel,height,width)\n",
    "    get the output value of a layer: outputofalayer.detach().numpy() can get the auto_grad values away only keep the value of layeroutput\n",
    "### how to organize code\n",
    "    Write a class(nn.Module) to contain the whole network sturcture:__init__ and forward need to rewrite. \n",
    "    Conv and Transpose_Conv should keep the weights, while pool and relu don't need to keep paras. And nn calls layers, Function calls funcs,layers have paras so they should be the variable of network class.\n",
    "    instanciate the network class.\n",
    "    Define Loss \n",
    "    Define opitimizer\n",
    "    Image transform to Tensor, and load use Dataloader\n",
    "    iterate dataloader get the input and target batch to TRAIN the model\n",
    "        optimizer.zero_grad()\n",
    "        outputs = model(inputs)\n",
    "        loss = loss_function(outputs,targets)\n",
    "        loss.backward()\n",
    "        optimizer.step()\n",
    "        loss.item()*images.size(0) get total batch loss\n",
    "        train_loss update(each epoch or each batch)\n",
    "    TEST the model: get some data from test set, eg. one batch data. output = model(test_data)get the output. And RESHAPE \n",
    "    some visualize: fig, axes = plt.subplots(nrows=2, ncols=10, sharex=True, sharey=True, figsize=(25,4))\n",
    "    for noisy_imgs, row in zip([noisy_imgs, output], axes):\n",
    "        for img, ax in zip(noisy_imgs, row):\n",
    "            ax.imshow(np.squeeze(img), cmap='gray')\n",
    "            ax.get_xaxis().set_visible(False)\n",
    "            ax.get_yaxis().set_visible(False)"
   ]
  },
  {
   "cell_type": "markdown",
   "metadata": {},
   "source": [
    "## 1. Download Dataset"
   ]
  },
  {
   "cell_type": "code",
   "execution_count": 1,
   "metadata": {
    "scrolled": true
   },
   "outputs": [
    {
     "ename": "ModuleNotFoundError",
     "evalue": "No module named 'torch'",
     "output_type": "error",
     "traceback": [
      "\u001b[0;31m---------------------------------------------------------------------------\u001b[0m",
      "\u001b[0;31mModuleNotFoundError\u001b[0m                       Traceback (most recent call last)",
      "\u001b[0;32m<ipython-input-1-8efe6c0ab1ef>\u001b[0m in \u001b[0;36m<module>\u001b[0;34m\u001b[0m\n\u001b[0;32m----> 1\u001b[0;31m \u001b[0;32mimport\u001b[0m \u001b[0mtorch\u001b[0m\u001b[0;34m\u001b[0m\u001b[0;34m\u001b[0m\u001b[0m\n\u001b[0m\u001b[1;32m      2\u001b[0m \u001b[0;32mimport\u001b[0m \u001b[0mnumpy\u001b[0m \u001b[0;32mas\u001b[0m \u001b[0mnp\u001b[0m\u001b[0;34m\u001b[0m\u001b[0;34m\u001b[0m\u001b[0m\n\u001b[1;32m      3\u001b[0m \u001b[0;32mfrom\u001b[0m \u001b[0mtorchvision\u001b[0m \u001b[0;32mimport\u001b[0m \u001b[0mdatasets\u001b[0m\u001b[0;34m\u001b[0m\u001b[0;34m\u001b[0m\u001b[0m\n\u001b[1;32m      4\u001b[0m \u001b[0;32mimport\u001b[0m \u001b[0mtorchvision\u001b[0m\u001b[0;34m.\u001b[0m\u001b[0mtransforms\u001b[0m \u001b[0;32mas\u001b[0m \u001b[0mtransforms\u001b[0m\u001b[0;34m\u001b[0m\u001b[0;34m\u001b[0m\u001b[0m\n\u001b[1;32m      5\u001b[0m \u001b[0;34m\u001b[0m\u001b[0m\n",
      "\u001b[0;31mModuleNotFoundError\u001b[0m: No module named 'torch'"
     ]
    }
   ],
   "source": [
    "import torch\n",
    "import numpy as np\n",
    "from torchvision import datasets\n",
    "import torchvision.transforms as transforms\n",
    "\n",
    "transform = transforms.ToTensor()\n",
    "\n",
    "train_data = datasets.MNIST(root='data',train=True,download=True,transform=transform)\n",
    "test_data = datasets.MNIST(root='data',train=False,download=True,transform=transform)"
   ]
  },
  {
   "cell_type": "markdown",
   "metadata": {},
   "source": [
    "## 2.  Step 1: write a class of network\n",
    "\n",
    "Write a class(nn.Module) to contain the whole network sturcture:__init__ and forward need to rewrite.        \n",
    "Conv and Transpose_Conv should keep the weights, while pool and relu don't need to keep paras. And nn calls layers, Function calls funcs,layers have paras so they should be the variable of network class.        \n",
    "instanciate the network class."
   ]
  },
  {
   "cell_type": "code",
   "execution_count": null,
   "metadata": {},
   "outputs": [],
   "source": [
    "import torch.nn as nn\n",
    "import torch.nn.functional as F\n",
    "\n",
    "class  Denoiser(nn.Module):\n",
    "    def __init__(self):\n",
    "        super(Denoiser,self).__init__()\n",
    "        self.conv_1 = nn.Conv2d(1,32,3,padding = 1)\n",
    "        self.conv_2 = nn.Conv2d(32,16,3,padding = 1)\n",
    "        self.conv_3 = nn.Conv2d(16,8,3,padding = 1)\n",
    "        self.pool = nn.MaxPool2d(2,2)\n",
    "        self.t_conv_1 = nn.ConvTranspose2d(8,8,3,stride = 2)\n",
    "        self.t_conv_2 = nn.ConvTranspose2d(8,16,2,stride = 2)\n",
    "        self.t_conv_3 = nn.ConvTranspose2d(16,32,2,stride = 2)\n",
    "        self.conv_out = nn.Conv2d(32,1,3,padding = 1)\n",
    "    def forward(self,x):\n",
    "        # encode\n",
    "        x = self.conv_1(x)\n",
    "        x = F.relu(x)\n",
    "        x = self.pool(x)\n",
    "        x = F.relu(self.conv_2(x))\n",
    "        x = self.pool(x)\n",
    "        x = F.relu(self.conv_3(x))\n",
    "        x = self.pool(x)\n",
    "        # decode\n",
    "        x = F.relu(self.t_conv_1(x))\n",
    "        x = F.relu(self.t_conv_2(x))\n",
    "        x = F.relu(self.t_conv_3(x))\n",
    "        # output should have a sigmoid applied\n",
    "        x = F.sigmoid(self.conv_out(x))\n",
    "        return x\n",
    "model = Denoiser()\n",
    "print(model)"
   ]
  },
  {
   "cell_type": "markdown",
   "metadata": {},
   "source": [
    "## 3. Step 2: \n",
    "Define Loss      \n",
    "Define opitimizer        "
   ]
  },
  {
   "cell_type": "code",
   "execution_count": null,
   "metadata": {},
   "outputs": [],
   "source": [
    "Criterion = nn.MSELoss()\n",
    "optimizer = torch.optim.Adam(model.parameters(),lr=0.001)"
   ]
  },
  {
   "cell_type": "markdown",
   "metadata": {},
   "source": [
    "## 4. Step 3: \n",
    "Data transform to Tensor, and load data using DataLoader\n",
    "DataLoader contain Sampler, BatchSampler, and dataset, allowing us sample the dataset."
   ]
  },
  {
   "cell_type": "code",
   "execution_count": null,
   "metadata": {},
   "outputs": [],
   "source": [
    "# Create training and test dataloaders\n",
    "num_workers = 0\n",
    "# how many samples per batch to load\n",
    "batch_size = 20\n",
    "\n",
    "# prepare data loaders\n",
    "train_loader = torch.utils.data.DataLoader(train_data, batch_size=batch_size, num_workers=num_workers)\n",
    "test_loader = torch.utils.data.DataLoader(test_data, batch_size=batch_size, num_workers=num_workers)\n",
    "\n",
    "# obtain one batch of training images\n",
    "dataiter = iter(train_loader)\n",
    "images, labels = dataiter.next()\n",
    "print(images.shape)"
   ]
  },
  {
   "cell_type": "code",
   "execution_count": null,
   "metadata": {},
   "outputs": [],
   "source": [
    "import matplotlib.pyplot as plt\n",
    "%matplotlib inline\n",
    "# get one image from the batch\n",
    "img = np.squeeze(images[0])\n",
    "\n",
    "fig = plt.figure(figsize = (5,5)) \n",
    "ax = fig.add_subplot(111)\n",
    "ax.imshow(img, cmap='gray')"
   ]
  },
  {
   "cell_type": "code",
   "execution_count": null,
   "metadata": {},
   "outputs": [],
   "source": [
    "# how to get batches when training\n",
    "\n",
    "epochs = 2\n",
    "for i in range(epochs):\n",
    "    count = 0\n",
    "    for data in train_loader:\n",
    "        image,_ = data\n",
    "        print(image.shape)\n",
    "        count += 1\n",
    "        if count>5:\n",
    "            break"
   ]
  },
  {
   "cell_type": "markdown",
   "metadata": {},
   "source": [
    "## 5. Step 4: Train\n",
    "iterate dataloader get the input and target batch to TRAIN the model         \n",
    "    optimizer.zero_grad()        \n",
    "    outputs = model(inputs)        \n",
    "    loss = loss_function(outputs,targets)          \n",
    "    loss.backward()         \n",
    "    optimizer.step()         \n",
    "    loss.item()*images.size(0) get total batch loss        \n",
    "    train_loss update(each epoch or each batch)          "
   ]
  },
  {
   "cell_type": "code",
   "execution_count": null,
   "metadata": {},
   "outputs": [],
   "source": [
    "n_epochs = 20\n",
    "noise_factor = 0.5\n",
    "for epoch in range(n_epochs):\n",
    "    train_loss = 0.0\n",
    "    for data in train_loader:\n",
    "        images,_ = data\n",
    "        \n",
    "        noisy_imgs = images + noise_factor * torch.randn(*images.shape)\n",
    "        noisy_imgs = np.clip(noisy_imgs, 0., 1.)\n",
    "        optimizer.zero_grad()\n",
    "        outputs = model(noisy_imgs)\n",
    "        loss = Criterion(images,outputs)\n",
    "        loss.backward()\n",
    "        optimizer.step()\n",
    "        train_loss += loss.item()*images.size(0)\n",
    "    train_loss = train_loss/len(train_loader)\n",
    "    print('Epoch:{}\\tLoss:{}'.format(epoch,train_loss))    "
   ]
  },
  {
   "cell_type": "markdown",
   "metadata": {},
   "source": [
    "## 6. Step 5:Test the model "
   ]
  },
  {
   "cell_type": "code",
   "execution_count": null,
   "metadata": {},
   "outputs": [],
   "source": [
    "dataiter = iter(test_loader)\n",
    "images,labels = dataiter.next()\n",
    "\n",
    "noisy_images = images + noise_factor * torch.randn(*images.shape)\n",
    "noisy_images = np.clip(noisy_images,0.,1.)\n",
    "\n",
    "output = model(noisy_imgs)\n",
    "noisy_imgs = noisy_imgs.numpy()\n",
    "\n",
    "output = output.view(batch_size,1,28,28)\n",
    "output = output.detach().numpy()\n",
    "\n",
    "fig,axes = plt.subplots(nrows=2,ncols=10,sharex=True,\n",
    "                       sharey=True,figsize=(25,4))\n",
    "for noisy_imgs,row in zip([noisy_imgs,output],axes):\n",
    "    for img,ax in zip(noisy_imgs,row):\n",
    "        ax.imshow(np.squeeze(img),cmap='gray')\n",
    "        ax.get_xaxis().set_visible(False)\n",
    "        ax.get_yaxis().set_visible(False)"
   ]
  },
  {
   "cell_type": "code",
   "execution_count": null,
   "metadata": {},
   "outputs": [],
   "source": []
  },
  {
   "cell_type": "code",
   "execution_count": null,
   "metadata": {},
   "outputs": [],
   "source": []
  },
  {
   "cell_type": "code",
   "execution_count": null,
   "metadata": {},
   "outputs": [],
   "source": []
  }
 ],
 "metadata": {
  "kernelspec": {
   "display_name": "Python 3",
   "language": "python",
   "name": "python3"
  },
  "language_info": {
   "codemirror_mode": {
    "name": "ipython",
    "version": 3
   },
   "file_extension": ".py",
   "mimetype": "text/x-python",
   "name": "python",
   "nbconvert_exporter": "python",
   "pygments_lexer": "ipython3",
   "version": "3.7.3"
  }
 },
 "nbformat": 4,
 "nbformat_minor": 2
}
