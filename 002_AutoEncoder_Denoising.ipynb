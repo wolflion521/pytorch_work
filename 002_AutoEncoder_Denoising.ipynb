{
 "cells": [
  {
   "cell_type": "markdown",
   "metadata": {},
   "source": [
    "## AutoEncoder\n",
    "### structure\n",
    "    3 layer conv and downsample          \n",
    "    3 layer transpose conv upsample\n",
    "    loss: Mean Square Error\n",
    "    optimizer: Adam\n",
    "### functions\n",
    "    import torch.nn as nn\n",
    "    3 layer conv and downsample\n",
    "        conv:  nn.Conv2d(inputlayerchannels,outputlayerchannels,kernelsize,padding)\n",
    "        downsample:nn.MaxPool2d(2,2)\n",
    "    3 layer transpose conv upsample: nn.ConvTranspose2d(inputlayerchannels,outputlayerchannels,kernelsize,stride=2)\n",
    "    activation function:import torch.nn.functional as F   F.relu   F.sigmoid\n",
    "    loss: Mean Square Error   nn.MSELoss(predicts,targets)\n",
    "    optimizer: Adam        torch.optim.Adam(model.parameters(),lr=0.001)\n",
    "    Dataloader:torch.utils.data.DataLoader\n",
    "    reshape:  certainTensor.view(batch_size,channel,height,width)\n",
    "    get the output value of a layer: outputofalayer.detach().numpy() can get the auto_grad values away only keep the value of layeroutput\n",
    "### how to organize code\n",
    "    Write a class(nn.Module) to contain the whole network sturcture:__init__ and forward need to rewrite. \n",
    "    Conv and Transpose_Conv should keep the weights, while pool and relu don't need to keep paras. And nn calls layers, Function calls funcs,layers have paras so they should be the variable of network class.\n",
    "    instanciate the network class.\n",
    "    Define Loss \n",
    "    Define opitimizer\n",
    "    Image transform to Tensor, and load use Dataloader\n",
    "    iterate dataloader get the input and target batch to TRAIN the model\n",
    "        optimizer.zero_grad()\n",
    "        outputs = model(inputs)\n",
    "        loss = loss_function(outputs,targets)\n",
    "        loss.backward()\n",
    "        optimizer.step()\n",
    "        loss.item()*images.size(0) get total batch loss\n",
    "        train_loss update(each epoch or each batch)\n",
    "    TEST the model: get some data from test set, eg. one batch data. output = model(test_data)get the output. And RESHAPE \n",
    "    some visualize: fig, axes = plt.subplots(nrows=2, ncols=10, sharex=True, sharey=True, figsize=(25,4))\n",
    "    for noisy_imgs, row in zip([noisy_imgs, output], axes):\n",
    "        for img, ax in zip(noisy_imgs, row):\n",
    "            ax.imshow(np.squeeze(img), cmap='gray')\n",
    "            ax.get_xaxis().set_visible(False)\n",
    "            ax.get_yaxis().set_visible(False)"
   ]
  },
  {
   "cell_type": "markdown",
   "metadata": {},
   "source": [
    "## 1. Download Dataset"
   ]
  },
  {
   "cell_type": "code",
   "execution_count": 2,
   "metadata": {
    "scrolled": true
   },
   "outputs": [
    {
     "name": "stdout",
     "output_type": "stream",
     "text": [
      "Downloading http://yann.lecun.com/exdb/mnist/train-images-idx3-ubyte.gz to data\\MNIST\\raw\\train-images-idx3-ubyte.gz\n"
     ]
    },
    {
     "name": "stderr",
     "output_type": "stream",
     "text": [
      " 95%|███████████████████████████████████████████████████████████████▍   | 9379840/9912422 [00:10<00:00, 1064189.91it/s]"
     ]
    },
    {
     "name": "stdout",
     "output_type": "stream",
     "text": [
      "Extracting data\\MNIST\\raw\\train-images-idx3-ubyte.gz\n",
      "Downloading http://yann.lecun.com/exdb/mnist/train-labels-idx1-ubyte.gz to data\\MNIST\\raw\\train-labels-idx1-ubyte.gz\n"
     ]
    },
    {
     "name": "stderr",
     "output_type": "stream",
     "text": [
      "\n",
      "0it [00:00, ?it/s]\n",
      "  0%|                                                                                        | 0/28881 [00:00<?, ?it/s]\n",
      "32768it [00:00, 78411.27it/s]                                                                                          "
     ]
    },
    {
     "name": "stdout",
     "output_type": "stream",
     "text": [
      "Extracting data\\MNIST\\raw\\train-labels-idx1-ubyte.gz\n",
      "Downloading http://yann.lecun.com/exdb/mnist/t10k-images-idx3-ubyte.gz to data\\MNIST\\raw\\t10k-images-idx3-ubyte.gz\n"
     ]
    },
    {
     "name": "stderr",
     "output_type": "stream",
     "text": [
      "\n",
      "0it [00:00, ?it/s]\n",
      "  0%|                                                                                      | 0/1648877 [00:00<?, ?it/s]\n",
      "  5%|███▍                                                                  | 81920/1648877 [00:00<00:02, 773251.47it/s]\n",
      " 10%|███████▏                                                             | 172032/1648877 [00:00<00:01, 794943.96it/s]\n",
      " 15%|██████████▋                                                          | 253952/1648877 [00:00<00:01, 755581.37it/s]\n",
      " 19%|█████████████▎                                                       | 319488/1648877 [00:00<00:01, 706253.92it/s]\n",
      " 25%|█████████████████▏                                                   | 409600/1648877 [00:00<00:01, 745994.47it/s]\n",
      " 31%|█████████████████████▌                                               | 516096/1648877 [00:01<00:01, 801256.83it/s]\n",
      " 41%|████████████████████████████▍                                        | 679936/1648877 [00:01<00:01, 944731.57it/s]\n",
      " 55%|█████████████████████████████████████▌                              | 909312/1648877 [00:01<00:00, 1138680.00it/s]\n",
      " 67%|████████████████████████████████████████████▉                      | 1105920/1648877 [00:01<00:00, 1300733.90it/s]\n",
      " 80%|█████████████████████████████████████████████████████▌             | 1318912/1648877 [00:01<00:00, 1466873.60it/s]\n",
      "1654784it [00:01, 1066127.20it/s]                                                                                      "
     ]
    },
    {
     "name": "stdout",
     "output_type": "stream",
     "text": [
      "Extracting data\\MNIST\\raw\\t10k-images-idx3-ubyte.gz\n",
      "Downloading http://yann.lecun.com/exdb/mnist/t10k-labels-idx1-ubyte.gz to data\\MNIST\\raw\\t10k-labels-idx1-ubyte.gz\n"
     ]
    },
    {
     "name": "stderr",
     "output_type": "stream",
     "text": [
      "\n",
      "0it [00:00, ?it/s]\n",
      "  0%|                                                                                         | 0/4542 [00:00<?, ?it/s]\n",
      "8192it [00:00, 21565.91it/s]                                                                                           "
     ]
    },
    {
     "name": "stdout",
     "output_type": "stream",
     "text": [
      "Extracting data\\MNIST\\raw\\t10k-labels-idx1-ubyte.gz\n",
      "Processing...\n",
      "Done!\n"
     ]
    },
    {
     "name": "stderr",
     "output_type": "stream",
     "text": [
      "\r",
      "9920512it [00:29, 1064189.91it/s]                                                                                      "
     ]
    }
   ],
   "source": [
    "import torch\n",
    "import numpy as np\n",
    "from torchvision import datasets\n",
    "import torchvision.transforms as transforms\n",
    "\n",
    "transform = transforms.ToTensor()\n",
    "\n",
    "train_data = datasets.MNIST(root='data',train=True,download=True,transform=transform)\n",
    "test_data = datasets.MNIST(root='data',train=False,download=True,transform=transform)"
   ]
  },
  {
   "cell_type": "markdown",
   "metadata": {},
   "source": [
    "## 2.  Step 1: write a class of network\n",
    "\n",
    "Write a class(nn.Module) to contain the whole network sturcture:__init__ and forward need to rewrite.        \n",
    "Conv and Transpose_Conv should keep the weights, while pool and relu don't need to keep paras. And nn calls layers, Function calls funcs,layers have paras so they should be the variable of network class.        \n",
    "instanciate the network class."
   ]
  },
  {
   "cell_type": "code",
   "execution_count": 4,
   "metadata": {},
   "outputs": [
    {
     "name": "stdout",
     "output_type": "stream",
     "text": [
      "Denoiser(\n",
      "  (conv_1): Conv2d(1, 32, kernel_size=(3, 3), stride=(1, 1), padding=(1, 1))\n",
      "  (conv_2): Conv2d(32, 16, kernel_size=(3, 3), stride=(1, 1), padding=(1, 1))\n",
      "  (conv_3): Conv2d(16, 8, kernel_size=(3, 3), stride=(1, 1), padding=(1, 1))\n",
      "  (pool): MaxPool2d(kernel_size=2, stride=2, padding=0, dilation=1, ceil_mode=False)\n",
      "  (t_conv_1): ConvTranspose2d(8, 8, kernel_size=(3, 3), stride=(2, 2))\n",
      "  (t_conv_2): ConvTranspose2d(8, 16, kernel_size=(2, 2), stride=(2, 2))\n",
      "  (t_conv_3): ConvTranspose2d(16, 32, kernel_size=(2, 2), stride=(2, 2))\n",
      "  (conv_out): Conv2d(32, 1, kernel_size=(3, 3), stride=(1, 1), padding=(1, 1))\n",
      ")\n"
     ]
    }
   ],
   "source": [
    "import torch.nn as nn\n",
    "import torch.nn.functional as F\n",
    "\n",
    "class  Denoiser(nn.Module):\n",
    "    def __init__(self):\n",
    "        super(Denoiser,self).__init__()\n",
    "        self.conv_1 = nn.Conv2d(1,32,3,padding = 1)\n",
    "        self.conv_2 = nn.Conv2d(32,16,3,padding = 1)\n",
    "        self.conv_3 = nn.Conv2d(16,8,3,padding = 1)\n",
    "        self.pool = nn.MaxPool2d(2,2)\n",
    "        self.t_conv_1 = nn.ConvTranspose2d(8,8,3,stride = 2)\n",
    "        self.t_conv_2 = nn.ConvTranspose2d(8,16,2,stride = 2)\n",
    "        self.t_conv_3 = nn.ConvTranspose2d(16,32,2,stride = 2)\n",
    "        self.conv_out = nn.Conv2d(32,1,3,padding = 1)\n",
    "    def forward(self,x):\n",
    "        # encode\n",
    "        x = self.conv_1(x)\n",
    "        x = F.relu(x)\n",
    "        x = self.pool(x)\n",
    "        x = F.relu(self.conv_2(x))\n",
    "        x = self.pool(x)\n",
    "        x = F.relu(self.conv_3(x))\n",
    "        x = self.pool(x)\n",
    "        # decode\n",
    "        x = F.relu(self.t_conv_1(x))\n",
    "        x = F.relu(self.t_conv_2(x))\n",
    "        x = F.relu(self.t_conv_3(x))\n",
    "        # output should have a sigmoid applied\n",
    "        x = F.sigmoid(self.conv_out(x))\n",
    "        return x\n",
    "model = Denoiser()\n",
    "print(model)"
   ]
  },
  {
   "cell_type": "markdown",
   "metadata": {},
   "source": [
    "## 3. Step 2: \n",
    "Define Loss      \n",
    "Define opitimizer        "
   ]
  },
  {
   "cell_type": "code",
   "execution_count": 6,
   "metadata": {},
   "outputs": [],
   "source": [
    "Criterion = nn.MSELoss()\n",
    "optimizer = torch.optim.Adam(model.parameters(),lr=0.001)"
   ]
  },
  {
   "cell_type": "markdown",
   "metadata": {},
   "source": [
    "## 4. Step 3: \n",
    "Data transform to Tensor, and load data using DataLoader\n",
    "DataLoader contain Sampler, BatchSampler, and dataset, allowing us sample the dataset."
   ]
  },
  {
   "cell_type": "code",
   "execution_count": 7,
   "metadata": {},
   "outputs": [
    {
     "name": "stdout",
     "output_type": "stream",
     "text": [
      "torch.Size([20, 1, 28, 28])\n"
     ]
    }
   ],
   "source": [
    "# Create training and test dataloaders\n",
    "num_workers = 0\n",
    "# how many samples per batch to load\n",
    "batch_size = 20\n",
    "\n",
    "# prepare data loaders\n",
    "train_loader = torch.utils.data.DataLoader(train_data, batch_size=batch_size, num_workers=num_workers)\n",
    "test_loader = torch.utils.data.DataLoader(test_data, batch_size=batch_size, num_workers=num_workers)\n",
    "\n",
    "# obtain one batch of training images\n",
    "dataiter = iter(train_loader)\n",
    "images, labels = dataiter.next()\n",
    "print(images.shape)"
   ]
  },
  {
   "cell_type": "code",
   "execution_count": 8,
   "metadata": {},
   "outputs": [
    {
     "data": {
      "text/plain": [
       "<matplotlib.image.AxesImage at 0x1387cfa9860>"
      ]
     },
     "execution_count": 8,
     "metadata": {},
     "output_type": "execute_result"
    },
    {
     "data": {
      "image/png": "[encoded data removed]",
      "text/plain": [
       "<Figure size 360x360 with 1 Axes>"
      ]
     },
     "metadata": {
      "needs_background": "light"
     },
     "output_type": "display_data"
    }
   ],
   "source": [
    "import matplotlib.pyplot as plt\n",
    "%matplotlib inline\n",
    "# get one image from the batch\n",
    "img = np.squeeze(images[0])\n",
    "\n",
    "fig = plt.figure(figsize = (5,5)) \n",
    "ax = fig.add_subplot(111)\n",
    "ax.imshow(img, cmap='gray')"
   ]
  },
  {
   "cell_type": "code",
   "execution_count": 10,
   "metadata": {},
   "outputs": [
    {
     "name": "stdout",
     "output_type": "stream",
     "text": [
      "torch.Size([20, 1, 28, 28])\n",
      "torch.Size([20, 1, 28, 28])\n",
      "torch.Size([20, 1, 28, 28])\n",
      "torch.Size([20, 1, 28, 28])\n",
      "torch.Size([20, 1, 28, 28])\n",
      "torch.Size([20, 1, 28, 28])\n",
      "torch.Size([20, 1, 28, 28])\n",
      "torch.Size([20, 1, 28, 28])\n",
      "torch.Size([20, 1, 28, 28])\n",
      "torch.Size([20, 1, 28, 28])\n",
      "torch.Size([20, 1, 28, 28])\n",
      "torch.Size([20, 1, 28, 28])\n"
     ]
    }
   ],
   "source": [
    "# how to get batches when training\n",
    "\n",
    "epochs = 2\n",
    "for i in range(epochs):\n",
    "    count = 0\n",
    "    for data in train_loader:\n",
    "        image,_ = data\n",
    "        print(image.shape)\n",
    "        count += 1\n",
    "        if count>5:\n",
    "            break"
   ]
  },
  {
   "cell_type": "markdown",
   "metadata": {},
   "source": [
    "## 5. Step 4: Train\n",
    "iterate dataloader get the input and target batch to TRAIN the model         \n",
    "    optimizer.zero_grad()        \n",
    "    outputs = model(inputs)        \n",
    "    loss = loss_function(outputs,targets)          \n",
    "    loss.backward()         \n",
    "    optimizer.step()         \n",
    "    loss.item()*images.size(0) get total batch loss        \n",
    "    train_loss update(each epoch or each batch)          "
   ]
  },
  {
   "cell_type": "code",
   "execution_count": null,
   "metadata": {},
   "outputs": [],
   "source": [
    "n_epochs = 20\n",
    "noise_factor = 0.5\n",
    "for epoch in range(n_epochs):\n",
    "    train_loss = 0.0\n",
    "    for data in train_loader:\n",
    "        images,_ = data\n",
    "        \n",
    "        noisy_imgs = images + noise_factor * torch.randn(*images.shape)\n",
    "        noisy_imgs = np.clip(noisy_imgs, 0., 1.)\n",
    "        optimizer.zero_grad()\n",
    "        outputs = model(noisy_imgs)"
   ]
  },
  {
   "cell_type": "code",
   "execution_count": null,
   "metadata": {},
   "outputs": [],
   "source": []
  },
  {
   "cell_type": "code",
   "execution_count": null,
   "metadata": {},
   "outputs": [],
   "source": []
  },
  {
   "cell_type": "code",
   "execution_count": null,
   "metadata": {},
   "outputs": [],
   "source": []
  },
  {
   "cell_type": "code",
   "execution_count": null,
   "metadata": {},
   "outputs": [],
   "source": []
  },
  {
   "cell_type": "code",
   "execution_count": null,
   "metadata": {},
   "outputs": [],
   "source": []
  }
 ],
 "metadata": {
  "kernelspec": {
   "display_name": "Python 3",
   "language": "python",
   "name": "python3"
  },
  "language_info": {
   "codemirror_mode": {
    "name": "ipython",
    "version": 3
   },
   "file_extension": ".py",
   "mimetype": "text/x-python",
   "name": "python",
   "nbconvert_exporter": "python",
   "pygments_lexer": "ipython3",
   "version": "3.7.3"
  }
 },
 "nbformat": 4,
 "nbformat_minor": 2
}
